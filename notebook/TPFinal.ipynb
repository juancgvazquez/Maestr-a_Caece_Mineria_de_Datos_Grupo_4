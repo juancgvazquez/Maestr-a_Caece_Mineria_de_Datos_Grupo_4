{
 "cells": [
  {
   "cell_type": "markdown",
   "metadata": {
    "id": "Q4XktP3kzEif"
   },
   "source": [
    "# Trabajo Práctico Final - Minería de Datos Empresariales\n",
    "\n",
    "## Grupo 4:\n",
    "\n",
    "\n",
    "Sebastian Garcia Alaniz\n",
    "\n",
    "Veronica Perozzi\n",
    "\n",
    "Maria Lucia Lopez Aleman\n",
    "\n",
    "Juan Carlos Vazquez\n",
    "\n",
    "Jonathan Pablo Ibañez\n",
    "\n",
    "---\n",
    "\n"
   ]
  },
  {
   "cell_type": "markdown",
   "metadata": {
    "id": "Ws2XxV9MRWYK"
   },
   "source": [
    "## **Descripción del Problema**\n",
    "\n",
    "---\n",
    "Una entidad financiera quiere obtener un modelo que le permita predecir si una transacción es fraudulenta o no.\n",
    "El cliente nos ha entregado una base de datos original que contiene 1.362.621 entradas con 12 atributos.\n",
    "En este conjunto de datos, cada entrada representa una transferencia realizada por una persona.\n",
    "Cada transacción obtiene una calificación entre fraudulenta o no, según el conjunto de atributos que la definen."
   ]
  },
  {
   "cell_type": "markdown",
   "metadata": {
    "id": "3_yUy6Qd5loL"
   },
   "source": [
    "## **Proceso de Análisis**\n",
    "\n",
    "---\n",
    "\n"
   ]
  },
  {
   "cell_type": "code",
   "execution_count": 4,
   "metadata": {
    "id": "NjBi0XDkBJXj"
   },
   "outputs": [],
   "source": [
    "import numpy as np #funcionalidades matematicas\n",
    "import pandas as pd #dataset management\n",
    "import matplotlib.pyplot as plt #graficar\n",
    "import seaborn as sns #visualización\n",
    "from sklearn import linear_model #análisis predictivo"
   ]
  },
  {
   "cell_type": "code",
   "execution_count": 5,
   "metadata": {
    "colab": {
     "base_uri": "https://localhost:8080/",
     "height": 1000
    },
    "id": "ogtaWqf6CDEc",
    "outputId": "4a392841-5970-46ca-a9bd-4111e9a4ff76"
   },
   "outputs": [
    {
     "name": "stdout",
     "output_type": "stream",
     "text": [
      "   Unnamed: 0  step      type     amount     nameOrig  oldbalanceOrg  \\\n",
      "0     5003937   353  CASH_OUT  366837.00  C1378361187            0.0   \n",
      "1     5003938   353  CASH_OUT  227225.22   C211071968            0.0   \n",
      "2     5003939   353  CASH_OUT   92507.74  C2120887021            0.0   \n",
      "3     5003940   353  CASH_OUT  162519.57  C1103264078            0.0   \n",
      "4     5003941   353  CASH_OUT  157257.18  C1401140498            0.0   \n",
      "5     5003942   353  CASH_OUT  218661.52  C2048984881            0.0   \n",
      "6     5003943   353  CASH_OUT  151881.86  C1437820890            0.0   \n",
      "7     5003944   353  CASH_OUT  156376.11   C124349483            0.0   \n",
      "8     5003945   353  CASH_OUT  108535.35  C1225552625            0.0   \n",
      "9     5003946   353  CASH_OUT  201536.36  C1004993646            0.0   \n",
      "\n",
      "   newbalanceOrig     nameDest  oldbalanceDest  newbalanceDest  isFraud  \\\n",
      "0             0.0   C971468434       421675.19       558423.14        0   \n",
      "1             0.0  C1048278624       447213.34       674438.56        0   \n",
      "2             0.0   C672681554       214510.10       307017.84        0   \n",
      "3             0.0   C532824402       844653.01      1007172.59        0   \n",
      "4             0.0   C700036764      2326697.36      2483954.55        0   \n",
      "5             0.0   C910657438      4014839.98      4233501.50        0   \n",
      "6             0.0   C806905883      2361527.12      2513408.98        0   \n",
      "7             0.0  C1489927200      1680001.08      1836377.19        0   \n",
      "8             0.0   C934078168       184724.65       293260.00        0   \n",
      "9             0.0   C837103608      1734790.01      1936326.37        0   \n",
      "\n",
      "   isFlaggedFraud  \n",
      "0               0  \n",
      "1               0  \n",
      "2               0  \n",
      "3               0  \n",
      "4               0  \n",
      "5               0  \n",
      "6               0  \n",
      "7               0  \n",
      "8               0  \n",
      "9               0  \n"
     ]
    }
   ],
   "source": [
    "#Importando el data set \n",
    "#from google.colab import drive\n",
    "#drive.mount('/content/drive')\n",
    "#Definiendo dataframe\n",
    "df = pd.read_csv('..//Fraude.csv')\n",
    "print(df.head(10))"
   ]
  },
  {
   "cell_type": "markdown",
   "metadata": {
    "id": "bZ4A-Bx2CMGY"
   },
   "source": [
    "### Descripción de los atributos\n",
    "\n",
    "step - mapa de unidades de tiempo. Un step es una hora. Total de steps 744 (30 días de simulación)\n",
    "\n",
    "type - CASH-IN (entrada de dinero, depósito), CASH-OUT (salida de dinero, extracción), DEBIT (Débito), PAYMENT (Pago) and TRANSFER (Transferencia)\n",
    "\n",
    "amount - monto de la transacción en moneda local\n",
    "\n",
    "nameOrig - cliente que realizó la transacción\n",
    "\n",
    "oldbalanceOrg - saldo antes de la transacción\n",
    "\n",
    "newbalanceOrig - saldo luego de la transacción\n",
    "\n",
    "nameDest - cliente receptor de la transacción (destinatario/beneficiario)\n",
    "\n",
    "oldbalanceDest - saldo inicial del destinatario antes de la transacción\n",
    "\n",
    "newbalanceDest - saldo final del destinatario luego de la transacción\n",
    "\n",
    "isFraud - marca que determina si la transacción fue fraudulente (1) o no fue fraudulenta (0)\n",
    "\n",
    "isFlaggedFraud - No usar"
   ]
  },
  {
   "cell_type": "code",
   "execution_count": 6,
   "metadata": {
    "colab": {
     "base_uri": "https://localhost:8080/"
    },
    "id": "ebnMTdxbCLi5",
    "outputId": "bcc7dbb4-2647-4603-b76a-91bfbb2d7f9b"
   },
   "outputs": [
    {
     "name": "stdout",
     "output_type": "stream",
     "text": [
      "Index(['Unnamed: 0', 'step', 'type', 'amount', 'nameOrig', 'oldbalanceOrg',\n",
      "       'newbalanceOrig', 'nameDest', 'oldbalanceDest', 'newbalanceDest',\n",
      "       'isFraud', 'isFlaggedFraud'],\n",
      "      dtype='object')\n"
     ]
    },
    {
     "data": {
      "text/plain": [
       "Unnamed: 0        0\n",
       "step              0\n",
       "type              0\n",
       "amount            0\n",
       "nameOrig          0\n",
       "oldbalanceOrg     0\n",
       "newbalanceOrig    0\n",
       "nameDest          0\n",
       "oldbalanceDest    0\n",
       "newbalanceDest    0\n",
       "isFraud           0\n",
       "isFlaggedFraud    0\n",
       "dtype: int64"
      ]
     },
     "execution_count": 6,
     "metadata": {},
     "output_type": "execute_result"
    }
   ],
   "source": [
    "# Información del dataset\n",
    "print(df.keys())\n",
    "\n",
    "#Dimensionalidad\n",
    "df.shape\n",
    "\n",
    "# Visualización de la descripción del DataSet\n",
    "df.describe(include = 'all')\n",
    "\n",
    "#Check de datos faltantes\n",
    "df.isnull().sum()"
   ]
  },
  {
   "cell_type": "markdown",
   "metadata": {
    "id": "SDwoPtDBCVDj"
   },
   "source": [
    "#### Tratamiento de variables"
   ]
  },
  {
   "cell_type": "code",
   "execution_count": 7,
   "metadata": {
    "colab": {
     "base_uri": "https://localhost:8080/"
    },
    "id": "gFV1NnWxCUxJ",
    "outputId": "ddad05c8-949c-4dfb-b643-d1c515e63236"
   },
   "outputs": [
    {
     "data": {
      "text/plain": [
       "Unnamed: 0          int64\n",
       "step                int64\n",
       "type               object\n",
       "amount            float64\n",
       "nameOrig           object\n",
       "oldbalanceOrg     float64\n",
       "newbalanceOrig    float64\n",
       "nameDest           object\n",
       "oldbalanceDest    float64\n",
       "newbalanceDest    float64\n",
       "isFraud             int64\n",
       "isFlaggedFraud      int64\n",
       "dtype: object"
      ]
     },
     "execution_count": 7,
     "metadata": {},
     "output_type": "execute_result"
    }
   ],
   "source": [
    "#Identificación del tipo de dato de cada variables\n",
    "df.dtypes"
   ]
  },
  {
   "cell_type": "markdown",
   "metadata": {
    "id": "mDspZw53ZNTl"
   },
   "source": [
    "Vemos que las columnas 1 y 12 (Unnamed: 0) y isFlaggedFraud deberán ser removidas del set de datos. La primera es el número de fila del archivo CSV, por lo que no aporta información importante, mientras que la segunda corresponde, probablemente, a otro método de detección de Fraude pero que no es necesariamente certero.\n",
    "\n",
    "Además renombraremos las columnas para adecuarlas a nombres de negocio."
   ]
  },
  {
   "cell_type": "code",
   "execution_count": 8,
   "metadata": {
    "id": "Tngeyx3fCX_E"
   },
   "outputs": [],
   "source": [
    "# Eliminamos atributos 1, y 12. Trabajando asi con las 10 restantes\n",
    "df = df.drop(['Unnamed: 0' , 'isFlaggedFraud' ], axis=1)\n",
    "df= df.rename(columns={'step': 'Tiempo','type': 'Tipo','amount': 'Monto','nameOrig': 'Nombre_origen','oldbalanceOrg': 'Saldo_orig_inicial','newbalanceOrig': 'Saldo_orig_fin','nameDest': 'Nombre_destino','oldbalanceDest': 'saldo_dest_inicial','newbalanceDest': 'saldo_dest_final','isFraud': 'Fraude'})"
   ]
  },
  {
   "cell_type": "code",
   "execution_count": 9,
   "metadata": {
    "colab": {
     "base_uri": "https://localhost:8080/",
     "height": 206
    },
    "id": "tDgq2cxsCYG1",
    "outputId": "2484e54d-4835-4731-edac-fcbfc37ccee2"
   },
   "outputs": [
    {
     "data": {
      "text/html": [
       "<div>\n",
       "<style scoped>\n",
       "    .dataframe tbody tr th:only-of-type {\n",
       "        vertical-align: middle;\n",
       "    }\n",
       "\n",
       "    .dataframe tbody tr th {\n",
       "        vertical-align: top;\n",
       "    }\n",
       "\n",
       "    .dataframe thead th {\n",
       "        text-align: right;\n",
       "    }\n",
       "</style>\n",
       "<table border=\"1\" class=\"dataframe\">\n",
       "  <thead>\n",
       "    <tr style=\"text-align: right;\">\n",
       "      <th></th>\n",
       "      <th>Tiempo</th>\n",
       "      <th>Tipo</th>\n",
       "      <th>Monto</th>\n",
       "      <th>Nombre_origen</th>\n",
       "      <th>Saldo_orig_inicial</th>\n",
       "      <th>Saldo_orig_fin</th>\n",
       "      <th>Nombre_destino</th>\n",
       "      <th>saldo_dest_inicial</th>\n",
       "      <th>saldo_dest_final</th>\n",
       "      <th>Fraude</th>\n",
       "    </tr>\n",
       "  </thead>\n",
       "  <tbody>\n",
       "    <tr>\n",
       "      <th>0</th>\n",
       "      <td>353</td>\n",
       "      <td>CASH_OUT</td>\n",
       "      <td>366837.00</td>\n",
       "      <td>C1378361187</td>\n",
       "      <td>0.0</td>\n",
       "      <td>0.0</td>\n",
       "      <td>C971468434</td>\n",
       "      <td>421675.19</td>\n",
       "      <td>558423.14</td>\n",
       "      <td>0</td>\n",
       "    </tr>\n",
       "    <tr>\n",
       "      <th>1</th>\n",
       "      <td>353</td>\n",
       "      <td>CASH_OUT</td>\n",
       "      <td>227225.22</td>\n",
       "      <td>C211071968</td>\n",
       "      <td>0.0</td>\n",
       "      <td>0.0</td>\n",
       "      <td>C1048278624</td>\n",
       "      <td>447213.34</td>\n",
       "      <td>674438.56</td>\n",
       "      <td>0</td>\n",
       "    </tr>\n",
       "    <tr>\n",
       "      <th>2</th>\n",
       "      <td>353</td>\n",
       "      <td>CASH_OUT</td>\n",
       "      <td>92507.74</td>\n",
       "      <td>C2120887021</td>\n",
       "      <td>0.0</td>\n",
       "      <td>0.0</td>\n",
       "      <td>C672681554</td>\n",
       "      <td>214510.10</td>\n",
       "      <td>307017.84</td>\n",
       "      <td>0</td>\n",
       "    </tr>\n",
       "    <tr>\n",
       "      <th>3</th>\n",
       "      <td>353</td>\n",
       "      <td>CASH_OUT</td>\n",
       "      <td>162519.57</td>\n",
       "      <td>C1103264078</td>\n",
       "      <td>0.0</td>\n",
       "      <td>0.0</td>\n",
       "      <td>C532824402</td>\n",
       "      <td>844653.01</td>\n",
       "      <td>1007172.59</td>\n",
       "      <td>0</td>\n",
       "    </tr>\n",
       "    <tr>\n",
       "      <th>4</th>\n",
       "      <td>353</td>\n",
       "      <td>CASH_OUT</td>\n",
       "      <td>157257.18</td>\n",
       "      <td>C1401140498</td>\n",
       "      <td>0.0</td>\n",
       "      <td>0.0</td>\n",
       "      <td>C700036764</td>\n",
       "      <td>2326697.36</td>\n",
       "      <td>2483954.55</td>\n",
       "      <td>0</td>\n",
       "    </tr>\n",
       "  </tbody>\n",
       "</table>\n",
       "</div>"
      ],
      "text/plain": [
       "   Tiempo      Tipo      Monto Nombre_origen  Saldo_orig_inicial  \\\n",
       "0     353  CASH_OUT  366837.00   C1378361187                 0.0   \n",
       "1     353  CASH_OUT  227225.22    C211071968                 0.0   \n",
       "2     353  CASH_OUT   92507.74   C2120887021                 0.0   \n",
       "3     353  CASH_OUT  162519.57   C1103264078                 0.0   \n",
       "4     353  CASH_OUT  157257.18   C1401140498                 0.0   \n",
       "\n",
       "   Saldo_orig_fin Nombre_destino  saldo_dest_inicial  saldo_dest_final  Fraude  \n",
       "0             0.0     C971468434           421675.19         558423.14       0  \n",
       "1             0.0    C1048278624           447213.34         674438.56       0  \n",
       "2             0.0     C672681554           214510.10         307017.84       0  \n",
       "3             0.0     C532824402           844653.01        1007172.59       0  \n",
       "4             0.0     C700036764          2326697.36        2483954.55       0  "
      ]
     },
     "execution_count": 9,
     "metadata": {},
     "output_type": "execute_result"
    }
   ],
   "source": [
    "# Vemos que haya funcionado el renombrado de las columnas\n",
    "df.head()\n"
   ]
  },
  {
   "cell_type": "code",
   "execution_count": 10,
   "metadata": {},
   "outputs": [
    {
     "data": {
      "text/html": [
       "<div>\n",
       "<style scoped>\n",
       "    .dataframe tbody tr th:only-of-type {\n",
       "        vertical-align: middle;\n",
       "    }\n",
       "\n",
       "    .dataframe tbody tr th {\n",
       "        vertical-align: top;\n",
       "    }\n",
       "\n",
       "    .dataframe thead th {\n",
       "        text-align: right;\n",
       "    }\n",
       "</style>\n",
       "<table border=\"1\" class=\"dataframe\">\n",
       "  <thead>\n",
       "    <tr style=\"text-align: right;\">\n",
       "      <th></th>\n",
       "      <th>Tiempo</th>\n",
       "      <th>Tipo</th>\n",
       "      <th>Monto</th>\n",
       "      <th>Nombre_origen</th>\n",
       "      <th>Saldo_orig_inicial</th>\n",
       "      <th>Saldo_orig_fin</th>\n",
       "      <th>Nombre_destino</th>\n",
       "      <th>saldo_dest_inicial</th>\n",
       "      <th>saldo_dest_final</th>\n",
       "      <th>Fraude</th>\n",
       "    </tr>\n",
       "  </thead>\n",
       "  <tbody>\n",
       "    <tr>\n",
       "      <th>1354408</th>\n",
       "      <td>1</td>\n",
       "      <td>TRANSFER</td>\n",
       "      <td>181.0</td>\n",
       "      <td>C1305486145</td>\n",
       "      <td>181.0</td>\n",
       "      <td>0.0</td>\n",
       "      <td>C553264065</td>\n",
       "      <td>0.0</td>\n",
       "      <td>0.0</td>\n",
       "      <td>1</td>\n",
       "    </tr>\n",
       "    <tr>\n",
       "      <th>1354409</th>\n",
       "      <td>1</td>\n",
       "      <td>CASH_OUT</td>\n",
       "      <td>181.0</td>\n",
       "      <td>C840083671</td>\n",
       "      <td>181.0</td>\n",
       "      <td>0.0</td>\n",
       "      <td>C38997010</td>\n",
       "      <td>21182.0</td>\n",
       "      <td>0.0</td>\n",
       "      <td>1</td>\n",
       "    </tr>\n",
       "    <tr>\n",
       "      <th>1354410</th>\n",
       "      <td>1</td>\n",
       "      <td>TRANSFER</td>\n",
       "      <td>2806.0</td>\n",
       "      <td>C1420196421</td>\n",
       "      <td>2806.0</td>\n",
       "      <td>0.0</td>\n",
       "      <td>C972765878</td>\n",
       "      <td>0.0</td>\n",
       "      <td>0.0</td>\n",
       "      <td>1</td>\n",
       "    </tr>\n",
       "    <tr>\n",
       "      <th>1354411</th>\n",
       "      <td>1</td>\n",
       "      <td>CASH_OUT</td>\n",
       "      <td>2806.0</td>\n",
       "      <td>C2101527076</td>\n",
       "      <td>2806.0</td>\n",
       "      <td>0.0</td>\n",
       "      <td>C1007251739</td>\n",
       "      <td>26202.0</td>\n",
       "      <td>0.0</td>\n",
       "      <td>1</td>\n",
       "    </tr>\n",
       "    <tr>\n",
       "      <th>1354412</th>\n",
       "      <td>1</td>\n",
       "      <td>TRANSFER</td>\n",
       "      <td>20128.0</td>\n",
       "      <td>C137533655</td>\n",
       "      <td>20128.0</td>\n",
       "      <td>0.0</td>\n",
       "      <td>C1848415041</td>\n",
       "      <td>0.0</td>\n",
       "      <td>0.0</td>\n",
       "      <td>1</td>\n",
       "    </tr>\n",
       "  </tbody>\n",
       "</table>\n",
       "</div>"
      ],
      "text/plain": [
       "         Tiempo      Tipo    Monto Nombre_origen  Saldo_orig_inicial  \\\n",
       "1354408       1  TRANSFER    181.0   C1305486145               181.0   \n",
       "1354409       1  CASH_OUT    181.0    C840083671               181.0   \n",
       "1354410       1  TRANSFER   2806.0   C1420196421              2806.0   \n",
       "1354411       1  CASH_OUT   2806.0   C2101527076              2806.0   \n",
       "1354412       1  TRANSFER  20128.0    C137533655             20128.0   \n",
       "\n",
       "         Saldo_orig_fin Nombre_destino  saldo_dest_inicial  saldo_dest_final  \\\n",
       "1354408             0.0     C553264065                 0.0               0.0   \n",
       "1354409             0.0      C38997010             21182.0               0.0   \n",
       "1354410             0.0     C972765878                 0.0               0.0   \n",
       "1354411             0.0    C1007251739             26202.0               0.0   \n",
       "1354412             0.0    C1848415041                 0.0               0.0   \n",
       "\n",
       "         Fraude  \n",
       "1354408       1  \n",
       "1354409       1  \n",
       "1354410       1  \n",
       "1354411       1  \n",
       "1354412       1  "
      ]
     },
     "execution_count": 10,
     "metadata": {},
     "output_type": "execute_result"
    }
   ],
   "source": [
    "df[df[\"Fraude\"]==1].head()"
   ]
  },
  {
   "cell_type": "markdown",
   "metadata": {
    "id": "fIZ5csinbGyd"
   },
   "source": [
    "La variable _tipo_ es una variable de tipo categórico, pero la llevaremos a un formato numérico para que los distintos algoritmos puedan trabajar con ella. En este sentido, hay dos caminos posibles, podríamos hacer un LabelEncoding (transformar a números crecientes) o hacer una matriz binaria por características. En este caso, optamos por realizar el Label Encoding.\n",
    "De todas formas, dejamos \"comentada\" la celda para hacer el pandas get dummies, en caso de que fuera interesante testearlo."
   ]
  },
  {
   "cell_type": "code",
   "execution_count": 11,
   "metadata": {
    "colab": {
     "base_uri": "https://localhost:8080/"
    },
    "id": "znicn_B1CYVN",
    "outputId": "d95ce83d-cb2b-4daa-ae19-f639b89e9187"
   },
   "outputs": [
    {
     "name": "stdout",
     "output_type": "stream",
     "text": [
      "['CASH_OUT' 'PAYMENT' 'CASH_IN' 'TRANSFER' 'DEBIT']\n"
     ]
    }
   ],
   "source": [
    "#Discretizamos la variable. Reemplazando categorías, por valores númericos, para luego convertir a formato int la variable\n",
    "\n",
    "# Relevamos las categorias de la variable \"Tipo\"\n",
    "print(df['Tipo'].unique())\n",
    "df = df.replace(to_replace = [\"CASH_OUT\", \"PAYMENT\", \"CASH_IN\", \"TRANSFER\", \"DEBIT\"],\n",
    "                 value = [\"1\", \"2\", \"3\", \"4\", \"5\",])\n",
    "\n",
    "df['Tipo'] = df['Tipo'].astype(int)   #Discretización"
   ]
  },
  {
   "cell_type": "code",
   "execution_count": 12,
   "metadata": {
    "id": "zcGkWkub9K6i"
   },
   "outputs": [],
   "source": [
    "# Si resulta interesante testear con get dummies, descomentar esta celda y comentar la de arriba.\n",
    "\n",
    "#tipo = pd.get_dummies(df[\"Tipo\"])\n",
    "#df.drop(columns='Tipo',inplace=True)\n",
    "#df = pd.concat([df,tipo],axis=1)"
   ]
  },
  {
   "cell_type": "markdown",
   "metadata": {
    "id": "Md5I87PpbosX"
   },
   "source": [
    "Por otro lado, inicialmente, las variables categóricas Nombre_origen y Nombre_destino corresponden a las cuentas de origen y destino. Si bien podrían resultar información interesante, en un primer análisis, optaremos por removerlas, ya que su cardinalidad es muy alta."
   ]
  },
  {
   "cell_type": "code",
   "execution_count": 13,
   "metadata": {
    "colab": {
     "base_uri": "https://localhost:8080/",
     "height": 364
    },
    "id": "epYJriM8CnMx",
    "outputId": "b5e446dd-2230-4212-d58e-61ea6bb76dc9"
   },
   "outputs": [
    {
     "data": {
      "text/plain": [
       "<AxesSubplot:>"
      ]
     },
     "execution_count": 13,
     "metadata": {},
     "output_type": "execute_result"
    },
    {
     "data": {
      "image/png": "[encoded data removed]",
      "text/plain": [
       "<Figure size 432x288 with 2 Axes>"
      ]
     },
     "metadata": {
      "needs_background": "light"
     },
     "output_type": "display_data"
    }
   ],
   "source": [
    "#Removemos variables categoricas, y corremos matriz de correlación\n",
    "df1= df.drop([ 'Nombre_origen','Nombre_destino'  ], axis=1)\n",
    "\n",
    "# Dibujamos un diagrama de correlación para entender las relaciones entre las variables.\n",
    "sns.heatmap(df1.corr())"
   ]
  },
  {
   "cell_type": "markdown",
   "metadata": {
    "id": "m6wOrYAecPvX"
   },
   "source": [
    "En principio, en el mapa de correlación, podemos ver que Fraude parece tener una correlación media con el monto, y ligera correlación con el tipo y con el saldo de origen inicial. A su vez, vemos una alta correlación entre saldo de origen inicial y final, y lo mismo en el saldo de destino, cosa que tiene sentido desde el punto de vista de negocio."
   ]
  },
  {
   "cell_type": "markdown",
   "metadata": {
    "id": "FU-nGevpdyIA"
   },
   "source": [
    "Procederemos a escalar las variables, para llevarlas a un mismo nivel de magnitud, para lo cual utilizaremos Standard Scaler"
   ]
  },
  {
   "cell_type": "code",
   "execution_count": 14,
   "metadata": {
    "id": "n0pqP1j3DDA4"
   },
   "outputs": [],
   "source": [
    "from sklearn.preprocessing import StandardScaler\n",
    "scalar = StandardScaler() # Instanciamos Standard Scaler\n",
    "# Escalo las variables\n",
    "df1_scaled = scalar.fit_transform(df1.drop(columns=\"Fraude\")) #Escalamos todo menos fraude\n",
    "df1_scaled = pd.DataFrame(df1_scaled,columns=df1.drop(columns=\"Fraude\").columns) # volvemos a convertir la matriz en dataframe"
   ]
  },
  {
   "cell_type": "markdown",
   "metadata": {
    "id": "5KckB8uWdkFF"
   },
   "source": [
    "Antes del siguiente paso, y ahora que ya tenemos los datos tratados y normalizados, procederemos a dividir el set de datos en train y test, para dejar un conjunto de datos sin tocar para luego evaluar los modelos."
   ]
  },
  {
   "cell_type": "code",
   "execution_count": 15,
   "metadata": {
    "colab": {
     "base_uri": "https://localhost:8080/"
    },
    "id": "v47qShUhCqEk",
    "outputId": "c8a3e63c-28ab-4215-cc8e-f89506e846b5"
   },
   "outputs": [
    {
     "name": "stdout",
     "output_type": "stream",
     "text": [
      "(953834, 7)\n",
      "(408787,)\n"
     ]
    }
   ],
   "source": [
    "#Split train vs. test\n",
    "from sklearn.model_selection import train_test_split\n",
    "X = df1_scaled # nos quedamos con todos los registros y columnas, salvo la ultima columna q es Fraude\n",
    "y = df1[\"Fraude\"] # nos quedamos con todos los registros de la última columna\n",
    "x_train, x_test, y_train, y_test = train_test_split(X, y,test_size=0.3)\n",
    "print(x_train.shape)\n",
    "print(y_test.shape)"
   ]
  },
  {
   "cell_type": "markdown",
   "metadata": {
    "id": "cT_DaRNfdbWK"
   },
   "source": [
    "### Desbalance de Categorías"
   ]
  },
  {
   "cell_type": "markdown",
   "metadata": {
    "id": "l2pS6-VKaJNS"
   },
   "source": [
    "El siguiente paso será evaluar que tan desbalanceado está el set de datos, en relación a la característica objetivo (Fraude) y luego balancearlo de forma más adecuada."
   ]
  },
  {
   "cell_type": "code",
   "execution_count": 16,
   "metadata": {
    "colab": {
     "base_uri": "https://localhost:8080/",
     "height": 344
    },
    "id": "52SAIttYCYMF",
    "outputId": "f8619e54-7199-4fb6-93c8-4ad9f4a51cb6"
   },
   "outputs": [
    {
     "data": {
      "text/plain": [
       "0    948142\n",
       "1      5692\n",
       "Name: Fraude, dtype: int64"
      ]
     },
     "execution_count": 16,
     "metadata": {},
     "output_type": "execute_result"
    },
    {
     "data": {
      "image/png": "[encoded data removed]",
      "text/plain": [
       "<Figure size 432x288 with 1 Axes>"
      ]
     },
     "metadata": {
      "needs_background": "light"
     },
     "output_type": "display_data"
    }
   ],
   "source": [
    "# Dataset - Evaluamos que tan desbalanceado esta\n",
    "contar_clases_fraude = pd.value_counts(y_train, sort = False)\n",
    "\n",
    "# Utilizamos el método gráfico de las barras, que es válido para clasificar cuando hay pocas categorias \n",
    "\n",
    "contar_clases_fraude.plot (kind='bar')\n",
    "plt.title(\"Operaciones fraudulentas sobre no fraudulentas\")\n",
    "plt.xlabel(\"Fraudulentas\")\n",
    "plt.ylabel(\"Frecuencia\")\n",
    "\n",
    "contar_clases_fraude.head()"
   ]
  },
  {
   "cell_type": "markdown",
   "metadata": {
    "id": "DYnHaQtJaklS"
   },
   "source": [
    "Vemos que el set de datos está bastante desbalanceado (cómo era de esperar) con un muy bajo número de datos correspondiente a Fraude. Para poder intentar un modelado más representativo, lo que haremos será tomar la misma cantidad de casos de No Fraude que de casos de Fraude, es decir, haremos un downsampling. Esto lo haremos sólo en el set de datos de train, para dejar el de test con la proporción normal."
   ]
  },
  {
   "cell_type": "code",
   "execution_count": 17,
   "metadata": {
    "colab": {
     "base_uri": "https://localhost:8080/"
    },
    "id": "3Isy5nsJkU-O",
    "outputId": "88107443-0f04-4794-c167-5062205905e6"
   },
   "outputs": [
    {
     "ename": "AttributeError",
     "evalue": "'DataFrame' object has no attribute 'shuffle'",
     "output_type": "error",
     "traceback": [
      "\u001b[0;31m---------------------------------------------------------------------------\u001b[0m",
      "\u001b[0;31mAttributeError\u001b[0m                            Traceback (most recent call last)",
      "\u001b[1;32m/home/charly/maestria/api_modelo/notebook/TPFinal.ipynb Cell 28'\u001b[0m in \u001b[0;36m<cell line: 18>\u001b[0;34m()\u001b[0m\n\u001b[1;32m     <a href='vscode-notebook-cell://wsl%2Bubuntu/home/charly/maestria/api_modelo/notebook/TPFinal.ipynb#ch0000027vscode-remote?line=15'>16</a>\u001b[0m \u001b[39m# Combinamos la clase mayoritaria \"rebajada\" con la minoritaria\u001b[39;00m\n\u001b[1;32m     <a href='vscode-notebook-cell://wsl%2Bubuntu/home/charly/maestria/api_modelo/notebook/TPFinal.ipynb#ch0000027vscode-remote?line=16'>17</a>\u001b[0m df_downsampled \u001b[39m=\u001b[39m pd\u001b[39m.\u001b[39mconcat([df_majority_downsampled, df_minority])\n\u001b[0;32m---> <a href='vscode-notebook-cell://wsl%2Bubuntu/home/charly/maestria/api_modelo/notebook/TPFinal.ipynb#ch0000027vscode-remote?line=17'>18</a>\u001b[0m df_downsampled \u001b[39m=\u001b[39m df_downsampled\u001b[39m.\u001b[39;49mshuffle()\n\u001b[1;32m     <a href='vscode-notebook-cell://wsl%2Bubuntu/home/charly/maestria/api_modelo/notebook/TPFinal.ipynb#ch0000027vscode-remote?line=18'>19</a>\u001b[0m \u001b[39m# Vemos el nuevo balance\u001b[39;00m\n\u001b[1;32m     <a href='vscode-notebook-cell://wsl%2Bubuntu/home/charly/maestria/api_modelo/notebook/TPFinal.ipynb#ch0000027vscode-remote?line=19'>20</a>\u001b[0m df_downsampled\u001b[39m.\u001b[39mFraude\u001b[39m.\u001b[39mvalue_counts()\n",
      "File \u001b[0;32m~/maestria/api_modelo/_venv/lib/python3.8/site-packages/pandas/core/generic.py:5575\u001b[0m, in \u001b[0;36mNDFrame.__getattr__\u001b[0;34m(self, name)\u001b[0m\n\u001b[1;32m   <a href='file:///home/charly/maestria/api_modelo/_venv/lib/python3.8/site-packages/pandas/core/generic.py?line=5567'>5568</a>\u001b[0m \u001b[39mif\u001b[39;00m (\n\u001b[1;32m   <a href='file:///home/charly/maestria/api_modelo/_venv/lib/python3.8/site-packages/pandas/core/generic.py?line=5568'>5569</a>\u001b[0m     name \u001b[39mnot\u001b[39;00m \u001b[39min\u001b[39;00m \u001b[39mself\u001b[39m\u001b[39m.\u001b[39m_internal_names_set\n\u001b[1;32m   <a href='file:///home/charly/maestria/api_modelo/_venv/lib/python3.8/site-packages/pandas/core/generic.py?line=5569'>5570</a>\u001b[0m     \u001b[39mand\u001b[39;00m name \u001b[39mnot\u001b[39;00m \u001b[39min\u001b[39;00m \u001b[39mself\u001b[39m\u001b[39m.\u001b[39m_metadata\n\u001b[1;32m   <a href='file:///home/charly/maestria/api_modelo/_venv/lib/python3.8/site-packages/pandas/core/generic.py?line=5570'>5571</a>\u001b[0m     \u001b[39mand\u001b[39;00m name \u001b[39mnot\u001b[39;00m \u001b[39min\u001b[39;00m \u001b[39mself\u001b[39m\u001b[39m.\u001b[39m_accessors\n\u001b[1;32m   <a href='file:///home/charly/maestria/api_modelo/_venv/lib/python3.8/site-packages/pandas/core/generic.py?line=5571'>5572</a>\u001b[0m     \u001b[39mand\u001b[39;00m \u001b[39mself\u001b[39m\u001b[39m.\u001b[39m_info_axis\u001b[39m.\u001b[39m_can_hold_identifiers_and_holds_name(name)\n\u001b[1;32m   <a href='file:///home/charly/maestria/api_modelo/_venv/lib/python3.8/site-packages/pandas/core/generic.py?line=5572'>5573</a>\u001b[0m ):\n\u001b[1;32m   <a href='file:///home/charly/maestria/api_modelo/_venv/lib/python3.8/site-packages/pandas/core/generic.py?line=5573'>5574</a>\u001b[0m     \u001b[39mreturn\u001b[39;00m \u001b[39mself\u001b[39m[name]\n\u001b[0;32m-> <a href='file:///home/charly/maestria/api_modelo/_venv/lib/python3.8/site-packages/pandas/core/generic.py?line=5574'>5575</a>\u001b[0m \u001b[39mreturn\u001b[39;00m \u001b[39mobject\u001b[39;49m\u001b[39m.\u001b[39;49m\u001b[39m__getattribute__\u001b[39;49m(\u001b[39mself\u001b[39;49m, name)\n",
      "\u001b[0;31mAttributeError\u001b[0m: 'DataFrame' object has no attribute 'shuffle'"
     ]
    }
   ],
   "source": [
    "from sklearn.utils import resample, shuffle\n",
    "\n",
    "# combino x_train e y_train para hacer más fácil el resampling\n",
    "x_train[\"Fraude\"]=y_train\n",
    "\n",
    "# Separo en clase mayoritaria y minoritaria\n",
    "df_majority = x_train[x_train[\"Fraude\"]==0]\n",
    "df_minority = x_train[x_train[\"Fraude\"]==1]\n",
    " \n",
    "# Hago el downsampling de la clase mayoritaria\n",
    "df_majority_downsampled = resample(df_majority, \n",
    "                                 replace=False,    # sin reemplazo\n",
    "                                 n_samples=len(df_minority),     # a la misma cantidad que la clase minoritaria\n",
    "                                 random_state=123) # para reproducibilidad\n",
    " \n",
    "# Combinamos la clase mayoritaria \"rebajada\" con la minoritaria\n",
    "df_downsampled = pd.concat([df_majority_downsampled, df_minority])\n",
    "df_downsampled = shuffle(df_downsampled)\n",
    "# Vemos el nuevo balance\n",
    "df_downsampled.Fraude.value_counts()"
   ]
  },
  {
   "cell_type": "code",
   "execution_count": null,
   "metadata": {
    "id": "Pcsuvte-mNxe"
   },
   "outputs": [],
   "source": [
    "# Volvemos a armar x_train e y_train, ahora que ya están balanceados.\n",
    "x_train = df_downsampled.drop(columns=\"Fraude\")\n",
    "y_train = df_downsampled[\"Fraude\"]"
   ]
  },
  {
   "cell_type": "code",
   "execution_count": null,
   "metadata": {},
   "outputs": [
    {
     "data": {
      "text/plain": [
       "Index(['Tiempo', 'Tipo', 'Monto', 'Saldo_orig_inicial', 'Saldo_orig_fin',\n",
       "       'saldo_dest_inicial', 'saldo_dest_final'],\n",
       "      dtype='object')"
      ]
     },
     "execution_count": 43,
     "metadata": {},
     "output_type": "execute_result"
    }
   ],
   "source": [
    "x_train.columns"
   ]
  },
  {
   "cell_type": "code",
   "execution_count": null,
   "metadata": {},
   "outputs": [
    {
     "data": {
      "text/plain": [
       "Tiempo                float64\n",
       "Tipo                  float64\n",
       "Monto                 float64\n",
       "Saldo_orig_inicial    float64\n",
       "Saldo_orig_fin        float64\n",
       "saldo_dest_inicial    float64\n",
       "saldo_dest_final      float64\n",
       "dtype: object"
      ]
     },
     "execution_count": 44,
     "metadata": {},
     "output_type": "execute_result"
    }
   ],
   "source": [
    "x_train.dtypes"
   ]
  },
  {
   "cell_type": "markdown",
   "metadata": {
    "id": "kk32eZ8rmxf4"
   },
   "source": [
    "### Modelado\n",
    "Para realizar el modelado, utilizaremos tres modelos diferentes, en orden creciente de complejidad. El problema es adecuado a un modelo de clasificación, por lo que utilizaremos un modelo de regresión logística, luego un random forest y para terminar una red neuronal, con el fin de poder comparar distintos modelos en cuanto a su performance."
   ]
  },
  {
   "cell_type": "markdown",
   "metadata": {
    "id": "uGA988aCC6HQ"
   },
   "source": [
    "***MODELO DE REGRESION LOGISTICA***"
   ]
  },
  {
   "cell_type": "code",
   "execution_count": null,
   "metadata": {
    "id": "TnZqgihiDG_E"
   },
   "outputs": [],
   "source": [
    "# Defino el algoritmo\n",
    "from sklearn.linear_model import LogisticRegression\n",
    "lr = LogisticRegression()"
   ]
  },
  {
   "cell_type": "code",
   "execution_count": null,
   "metadata": {
    "colab": {
     "base_uri": "https://localhost:8080/"
    },
    "id": "C6EeooVBDRYI",
    "outputId": "3569adda-ab73-44d3-f81f-c79f8103cc31"
   },
   "outputs": [
    {
     "data": {
      "text/html": [
       "<style>#sk-container-id-1 {color: black;background-color: white;}#sk-container-id-1 pre{padding: 0;}#sk-container-id-1 div.sk-toggleable {background-color: white;}#sk-container-id-1 label.sk-toggleable__label {cursor: pointer;display: block;width: 100%;margin-bottom: 0;padding: 0.3em;box-sizing: border-box;text-align: center;}#sk-container-id-1 label.sk-toggleable__label-arrow:before {content: \"▸\";float: left;margin-right: 0.25em;color: #696969;}#sk-container-id-1 label.sk-toggleable__label-arrow:hover:before {color: black;}#sk-container-id-1 div.sk-estimator:hover label.sk-toggleable__label-arrow:before {color: black;}#sk-container-id-1 div.sk-toggleable__content {max-height: 0;max-width: 0;overflow: hidden;text-align: left;background-color: #f0f8ff;}#sk-container-id-1 div.sk-toggleable__content pre {margin: 0.2em;color: black;border-radius: 0.25em;background-color: #f0f8ff;}#sk-container-id-1 input.sk-toggleable__control:checked~div.sk-toggleable__content {max-height: 200px;max-width: 100%;overflow: auto;}#sk-container-id-1 input.sk-toggleable__control:checked~label.sk-toggleable__label-arrow:before {content: \"▾\";}#sk-container-id-1 div.sk-estimator input.sk-toggleable__control:checked~label.sk-toggleable__label {background-color: #d4ebff;}#sk-container-id-1 div.sk-label input.sk-toggleable__control:checked~label.sk-toggleable__label {background-color: #d4ebff;}#sk-container-id-1 input.sk-hidden--visually {border: 0;clip: rect(1px 1px 1px 1px);clip: rect(1px, 1px, 1px, 1px);height: 1px;margin: -1px;overflow: hidden;padding: 0;position: absolute;width: 1px;}#sk-container-id-1 div.sk-estimator {font-family: monospace;background-color: #f0f8ff;border: 1px dotted black;border-radius: 0.25em;box-sizing: border-box;margin-bottom: 0.5em;}#sk-container-id-1 div.sk-estimator:hover {background-color: #d4ebff;}#sk-container-id-1 div.sk-parallel-item::after {content: \"\";width: 100%;border-bottom: 1px solid gray;flex-grow: 1;}#sk-container-id-1 div.sk-label:hover label.sk-toggleable__label {background-color: #d4ebff;}#sk-container-id-1 div.sk-serial::before {content: \"\";position: absolute;border-left: 1px solid gray;box-sizing: border-box;top: 0;bottom: 0;left: 50%;z-index: 0;}#sk-container-id-1 div.sk-serial {display: flex;flex-direction: column;align-items: center;background-color: white;padding-right: 0.2em;padding-left: 0.2em;position: relative;}#sk-container-id-1 div.sk-item {position: relative;z-index: 1;}#sk-container-id-1 div.sk-parallel {display: flex;align-items: stretch;justify-content: center;background-color: white;position: relative;}#sk-container-id-1 div.sk-item::before, #sk-container-id-1 div.sk-parallel-item::before {content: \"\";position: absolute;border-left: 1px solid gray;box-sizing: border-box;top: 0;bottom: 0;left: 50%;z-index: -1;}#sk-container-id-1 div.sk-parallel-item {display: flex;flex-direction: column;z-index: 1;position: relative;background-color: white;}#sk-container-id-1 div.sk-parallel-item:first-child::after {align-self: flex-end;width: 50%;}#sk-container-id-1 div.sk-parallel-item:last-child::after {align-self: flex-start;width: 50%;}#sk-container-id-1 div.sk-parallel-item:only-child::after {width: 0;}#sk-container-id-1 div.sk-dashed-wrapped {border: 1px dashed gray;margin: 0 0.4em 0.5em 0.4em;box-sizing: border-box;padding-bottom: 0.4em;background-color: white;}#sk-container-id-1 div.sk-label label {font-family: monospace;font-weight: bold;display: inline-block;line-height: 1.2em;}#sk-container-id-1 div.sk-label-container {text-align: center;}#sk-container-id-1 div.sk-container {/* jupyter's `normalize.less` sets `[hidden] { display: none; }` but bootstrap.min.css set `[hidden] { display: none !important; }` so we also need the `!important` here to be able to override the default hidden behavior on the sphinx rendered scikit-learn.org. See: https://github.com/scikit-learn/scikit-learn/issues/21755 */display: inline-block !important;position: relative;}#sk-container-id-1 div.sk-text-repr-fallback {display: none;}</style><div id=\"sk-container-id-1\" class=\"sk-top-container\"><div class=\"sk-text-repr-fallback\"><pre>LogisticRegression()</pre><b>In a Jupyter environment, please rerun this cell to show the HTML representation or trust the notebook. <br />On GitHub, the HTML representation is unable to render, please try loading this page with nbviewer.org.</b></div><div class=\"sk-container\" hidden><div class=\"sk-item\"><div class=\"sk-estimator sk-toggleable\"><input class=\"sk-toggleable__control sk-hidden--visually\" id=\"sk-estimator-id-1\" type=\"checkbox\" checked><label for=\"sk-estimator-id-1\" class=\"sk-toggleable__label sk-toggleable__label-arrow\">LogisticRegression</label><div class=\"sk-toggleable__content\"><pre>LogisticRegression()</pre></div></div></div></div></div>"
      ],
      "text/plain": [
       "LogisticRegression()"
      ]
     },
     "execution_count": 18,
     "metadata": {},
     "output_type": "execute_result"
    }
   ],
   "source": [
    "# Entreno el modelo\n",
    "lr.fit(x_train, y_train)"
   ]
  },
  {
   "cell_type": "code",
   "execution_count": null,
   "metadata": {
    "id": "7dmoxGUoDRVQ"
   },
   "outputs": [],
   "source": [
    "# Realizamos una prediccion con el conjunto de test\n",
    "y_pred = lr.predict(x_test)"
   ]
  },
  {
   "cell_type": "code",
   "execution_count": null,
   "metadata": {
    "id": "fQCRHJJjDRSc"
   },
   "outputs": [],
   "source": [
    "# Para conocer la eficiencia del modelo, creamos la matriz de confusión y también utilizamos el reporte de clasificación\n",
    "from sklearn.metrics import confusion_matrix, classification_report"
   ]
  },
  {
   "cell_type": "code",
   "execution_count": null,
   "metadata": {
    "colab": {
     "base_uri": "https://localhost:8080/"
    },
    "id": "Q16qekjVDRPv",
    "outputId": "e37f08ae-da9a-43fd-b23e-0e1c394b8319"
   },
   "outputs": [
    {
     "data": {
      "text/plain": [
       "array([[398826,   7467],\n",
       "       [   462,   2032]])"
      ]
     },
     "execution_count": 21,
     "metadata": {},
     "output_type": "execute_result"
    }
   ],
   "source": [
    "matriz = confusion_matrix(y_test, y_pred)\n",
    "matriz"
   ]
  },
  {
   "cell_type": "code",
   "execution_count": null,
   "metadata": {
    "colab": {
     "base_uri": "https://localhost:8080/"
    },
    "id": "ilRiLOwEDRM3",
    "outputId": "dfae8d92-aae7-4928-b865-65fa789e7da7"
   },
   "outputs": [
    {
     "name": "stdout",
     "output_type": "stream",
     "text": [
      "              precision    recall  f1-score   support\n",
      "\n",
      "           0       1.00      0.98      0.99    406293\n",
      "           1       0.21      0.81      0.34      2494\n",
      "\n",
      "    accuracy                           0.98    408787\n",
      "   macro avg       0.61      0.90      0.66    408787\n",
      "weighted avg       0.99      0.98      0.99    408787\n",
      "\n"
     ]
    }
   ],
   "source": [
    "print(classification_report(y_test, y_pred))"
   ]
  },
  {
   "cell_type": "markdown",
   "metadata": {
    "id": "vh3scIQ1oJNd"
   },
   "source": [
    "**MODELO RANDOM FOREST y GRADIENT BOOSTING**"
   ]
  },
  {
   "cell_type": "code",
   "execution_count": null,
   "metadata": {
    "id": "C2hEibAFoMCg"
   },
   "outputs": [],
   "source": [
    "from sklearn.ensemble import RandomForestClassifier, GradientBoostingClassifier"
   ]
  },
  {
   "cell_type": "code",
   "execution_count": null,
   "metadata": {
    "colab": {
     "base_uri": "https://localhost:8080/"
    },
    "id": "TtL99tYXoL-_",
    "outputId": "8dd12ec9-0bfc-4a47-a6e8-69f4240fd8cf"
   },
   "outputs": [
    {
     "data": {
      "text/html": [
       "<style>#sk-container-id-2 {color: black;background-color: white;}#sk-container-id-2 pre{padding: 0;}#sk-container-id-2 div.sk-toggleable {background-color: white;}#sk-container-id-2 label.sk-toggleable__label {cursor: pointer;display: block;width: 100%;margin-bottom: 0;padding: 0.3em;box-sizing: border-box;text-align: center;}#sk-container-id-2 label.sk-toggleable__label-arrow:before {content: \"▸\";float: left;margin-right: 0.25em;color: #696969;}#sk-container-id-2 label.sk-toggleable__label-arrow:hover:before {color: black;}#sk-container-id-2 div.sk-estimator:hover label.sk-toggleable__label-arrow:before {color: black;}#sk-container-id-2 div.sk-toggleable__content {max-height: 0;max-width: 0;overflow: hidden;text-align: left;background-color: #f0f8ff;}#sk-container-id-2 div.sk-toggleable__content pre {margin: 0.2em;color: black;border-radius: 0.25em;background-color: #f0f8ff;}#sk-container-id-2 input.sk-toggleable__control:checked~div.sk-toggleable__content {max-height: 200px;max-width: 100%;overflow: auto;}#sk-container-id-2 input.sk-toggleable__control:checked~label.sk-toggleable__label-arrow:before {content: \"▾\";}#sk-container-id-2 div.sk-estimator input.sk-toggleable__control:checked~label.sk-toggleable__label {background-color: #d4ebff;}#sk-container-id-2 div.sk-label input.sk-toggleable__control:checked~label.sk-toggleable__label {background-color: #d4ebff;}#sk-container-id-2 input.sk-hidden--visually {border: 0;clip: rect(1px 1px 1px 1px);clip: rect(1px, 1px, 1px, 1px);height: 1px;margin: -1px;overflow: hidden;padding: 0;position: absolute;width: 1px;}#sk-container-id-2 div.sk-estimator {font-family: monospace;background-color: #f0f8ff;border: 1px dotted black;border-radius: 0.25em;box-sizing: border-box;margin-bottom: 0.5em;}#sk-container-id-2 div.sk-estimator:hover {background-color: #d4ebff;}#sk-container-id-2 div.sk-parallel-item::after {content: \"\";width: 100%;border-bottom: 1px solid gray;flex-grow: 1;}#sk-container-id-2 div.sk-label:hover label.sk-toggleable__label {background-color: #d4ebff;}#sk-container-id-2 div.sk-serial::before {content: \"\";position: absolute;border-left: 1px solid gray;box-sizing: border-box;top: 0;bottom: 0;left: 50%;z-index: 0;}#sk-container-id-2 div.sk-serial {display: flex;flex-direction: column;align-items: center;background-color: white;padding-right: 0.2em;padding-left: 0.2em;position: relative;}#sk-container-id-2 div.sk-item {position: relative;z-index: 1;}#sk-container-id-2 div.sk-parallel {display: flex;align-items: stretch;justify-content: center;background-color: white;position: relative;}#sk-container-id-2 div.sk-item::before, #sk-container-id-2 div.sk-parallel-item::before {content: \"\";position: absolute;border-left: 1px solid gray;box-sizing: border-box;top: 0;bottom: 0;left: 50%;z-index: -1;}#sk-container-id-2 div.sk-parallel-item {display: flex;flex-direction: column;z-index: 1;position: relative;background-color: white;}#sk-container-id-2 div.sk-parallel-item:first-child::after {align-self: flex-end;width: 50%;}#sk-container-id-2 div.sk-parallel-item:last-child::after {align-self: flex-start;width: 50%;}#sk-container-id-2 div.sk-parallel-item:only-child::after {width: 0;}#sk-container-id-2 div.sk-dashed-wrapped {border: 1px dashed gray;margin: 0 0.4em 0.5em 0.4em;box-sizing: border-box;padding-bottom: 0.4em;background-color: white;}#sk-container-id-2 div.sk-label label {font-family: monospace;font-weight: bold;display: inline-block;line-height: 1.2em;}#sk-container-id-2 div.sk-label-container {text-align: center;}#sk-container-id-2 div.sk-container {/* jupyter's `normalize.less` sets `[hidden] { display: none; }` but bootstrap.min.css set `[hidden] { display: none !important; }` so we also need the `!important` here to be able to override the default hidden behavior on the sphinx rendered scikit-learn.org. See: https://github.com/scikit-learn/scikit-learn/issues/21755 */display: inline-block !important;position: relative;}#sk-container-id-2 div.sk-text-repr-fallback {display: none;}</style><div id=\"sk-container-id-2\" class=\"sk-top-container\"><div class=\"sk-text-repr-fallback\"><pre>RandomForestClassifier()</pre><b>In a Jupyter environment, please rerun this cell to show the HTML representation or trust the notebook. <br />On GitHub, the HTML representation is unable to render, please try loading this page with nbviewer.org.</b></div><div class=\"sk-container\" hidden><div class=\"sk-item\"><div class=\"sk-estimator sk-toggleable\"><input class=\"sk-toggleable__control sk-hidden--visually\" id=\"sk-estimator-id-2\" type=\"checkbox\" checked><label for=\"sk-estimator-id-2\" class=\"sk-toggleable__label sk-toggleable__label-arrow\">RandomForestClassifier</label><div class=\"sk-toggleable__content\"><pre>RandomForestClassifier()</pre></div></div></div></div></div>"
      ],
      "text/plain": [
       "RandomForestClassifier()"
      ]
     },
     "execution_count": 24,
     "metadata": {},
     "output_type": "execute_result"
    }
   ],
   "source": [
    "gb = GradientBoostingClassifier()\n",
    "gb.fit(x_train, y_train)\n",
    "rf = RandomForestClassifier()\n",
    "rf.fit(x_train, y_train)"
   ]
  },
  {
   "cell_type": "code",
   "execution_count": null,
   "metadata": {
    "id": "YoOie6vWoL7V"
   },
   "outputs": [],
   "source": [
    "rf_preds = rf.predict(x_test)\n",
    "gb_preds = gb.predict(x_test)"
   ]
  },
  {
   "cell_type": "code",
   "execution_count": null,
   "metadata": {
    "colab": {
     "base_uri": "https://localhost:8080/"
    },
    "id": "8oaHICLJoc2u",
    "outputId": "fa969583-ce1d-463c-9797-410d04dde75e"
   },
   "outputs": [
    {
     "name": "stdout",
     "output_type": "stream",
     "text": [
      "Random Forest\n",
      "[[402997   3296]\n",
      " [     8   2486]]\n",
      "Gradient Boosting\n",
      "[[401787   4506]\n",
      " [     6   2488]]\n"
     ]
    }
   ],
   "source": [
    "print(\"Random Forest\")\n",
    "print(confusion_matrix(y_test, rf_preds))\n",
    "print(\"Gradient Boosting\")\n",
    "print(confusion_matrix(y_test, gb_preds))"
   ]
  },
  {
   "cell_type": "code",
   "execution_count": null,
   "metadata": {
    "colab": {
     "base_uri": "https://localhost:8080/"
    },
    "id": "xDSsf6QAoi2s",
    "outputId": "c5d6b57a-89a4-444c-e141-b75fd5729d76"
   },
   "outputs": [
    {
     "name": "stdout",
     "output_type": "stream",
     "text": [
      "Random Forest\n",
      "              precision    recall  f1-score   support\n",
      "\n",
      "           0       1.00      0.99      1.00    406293\n",
      "           1       0.43      1.00      0.60      2494\n",
      "\n",
      "    accuracy                           0.99    408787\n",
      "   macro avg       0.71      0.99      0.80    408787\n",
      "weighted avg       1.00      0.99      0.99    408787\n",
      "\n",
      "Gradient Boosting\n",
      "              precision    recall  f1-score   support\n",
      "\n",
      "           0       1.00      0.99      0.99    406293\n",
      "           1       0.36      1.00      0.52      2494\n",
      "\n",
      "    accuracy                           0.99    408787\n",
      "   macro avg       0.68      0.99      0.76    408787\n",
      "weighted avg       1.00      0.99      0.99    408787\n",
      "\n"
     ]
    }
   ],
   "source": [
    "print(\"Random Forest\")\n",
    "print(classification_report(y_test, rf_preds))\n",
    "print(\"Gradient Boosting\")\n",
    "print(classification_report(y_test, gb_preds))"
   ]
  },
  {
   "cell_type": "markdown",
   "metadata": {
    "id": "6vNJQALJCjlO"
   },
   "source": [
    "**MODELO RED NEURONAL**"
   ]
  },
  {
   "cell_type": "code",
   "execution_count": null,
   "metadata": {
    "colab": {
     "base_uri": "https://localhost:8080/"
    },
    "id": "qoGI9VHYCr8I",
    "outputId": "a91f7d35-cc49-4c28-9f3b-524e1e21ac00"
   },
   "outputs": [
    {
     "data": {
      "text/plain": [
       "{'activation': 'relu',\n",
       " 'alpha': 0.0001,\n",
       " 'batch_size': 'auto',\n",
       " 'beta_1': 0.9,\n",
       " 'beta_2': 0.999,\n",
       " 'early_stopping': False,\n",
       " 'epsilon': 1e-08,\n",
       " 'hidden_layer_sizes': (100,),\n",
       " 'learning_rate': 'constant',\n",
       " 'learning_rate_init': 0.001,\n",
       " 'max_fun': 15000,\n",
       " 'max_iter': 200,\n",
       " 'momentum': 0.9,\n",
       " 'n_iter_no_change': 10,\n",
       " 'nesterovs_momentum': True,\n",
       " 'power_t': 0.5,\n",
       " 'random_state': None,\n",
       " 'shuffle': True,\n",
       " 'solver': 'adam',\n",
       " 'tol': 0.0001,\n",
       " 'validation_fraction': 0.1,\n",
       " 'verbose': False,\n",
       " 'warm_start': False}"
      ]
     },
     "execution_count": 28,
     "metadata": {},
     "output_type": "execute_result"
    }
   ],
   "source": [
    "from sklearn.neural_network import MLPClassifier\n",
    "mlp = MLPClassifier()\n",
    "mlp.get_params()"
   ]
  },
  {
   "cell_type": "markdown",
   "metadata": {
    "id": "o8JO2sH5CvUG"
   },
   "source": [
    "\"\"\"Parámetros\n",
    "activación : ‘relu’\n",
    "Función de activación para la capa oculta. ‘relu’, la función la función de unidad lineal rectificada, devuelve f(x) = max(0, x)\n",
    "hidden_layer_sizes : cantidad de neuronas por capa = n_layers - 2, default (100,)\n",
    "learning_rate : default ‘constant’\n",
    "learning_rate_init : default 0.001\n",
    "max_iter : int, default 200\n",
    "\"\"\""
   ]
  },
  {
   "cell_type": "code",
   "execution_count": null,
   "metadata": {
    "colab": {
     "base_uri": "https://localhost:8080/"
    },
    "id": "4whxjokWCxXS",
    "outputId": "7c78b160-4268-4863-f031-d2cf84c5dde6"
   },
   "outputs": [
    {
     "name": "stderr",
     "output_type": "stream",
     "text": [
      "/home/charly/_venv/lib/python3.8/site-packages/sklearn/neural_network/_multilayer_perceptron.py:702: ConvergenceWarning: Stochastic Optimizer: Maximum iterations (200) reached and the optimization hasn't converged yet.\n",
      "  warnings.warn(\n"
     ]
    },
    {
     "data": {
      "text/html": [
       "<style>#sk-container-id-3 {color: black;background-color: white;}#sk-container-id-3 pre{padding: 0;}#sk-container-id-3 div.sk-toggleable {background-color: white;}#sk-container-id-3 label.sk-toggleable__label {cursor: pointer;display: block;width: 100%;margin-bottom: 0;padding: 0.3em;box-sizing: border-box;text-align: center;}#sk-container-id-3 label.sk-toggleable__label-arrow:before {content: \"▸\";float: left;margin-right: 0.25em;color: #696969;}#sk-container-id-3 label.sk-toggleable__label-arrow:hover:before {color: black;}#sk-container-id-3 div.sk-estimator:hover label.sk-toggleable__label-arrow:before {color: black;}#sk-container-id-3 div.sk-toggleable__content {max-height: 0;max-width: 0;overflow: hidden;text-align: left;background-color: #f0f8ff;}#sk-container-id-3 div.sk-toggleable__content pre {margin: 0.2em;color: black;border-radius: 0.25em;background-color: #f0f8ff;}#sk-container-id-3 input.sk-toggleable__control:checked~div.sk-toggleable__content {max-height: 200px;max-width: 100%;overflow: auto;}#sk-container-id-3 input.sk-toggleable__control:checked~label.sk-toggleable__label-arrow:before {content: \"▾\";}#sk-container-id-3 div.sk-estimator input.sk-toggleable__control:checked~label.sk-toggleable__label {background-color: #d4ebff;}#sk-container-id-3 div.sk-label input.sk-toggleable__control:checked~label.sk-toggleable__label {background-color: #d4ebff;}#sk-container-id-3 input.sk-hidden--visually {border: 0;clip: rect(1px 1px 1px 1px);clip: rect(1px, 1px, 1px, 1px);height: 1px;margin: -1px;overflow: hidden;padding: 0;position: absolute;width: 1px;}#sk-container-id-3 div.sk-estimator {font-family: monospace;background-color: #f0f8ff;border: 1px dotted black;border-radius: 0.25em;box-sizing: border-box;margin-bottom: 0.5em;}#sk-container-id-3 div.sk-estimator:hover {background-color: #d4ebff;}#sk-container-id-3 div.sk-parallel-item::after {content: \"\";width: 100%;border-bottom: 1px solid gray;flex-grow: 1;}#sk-container-id-3 div.sk-label:hover label.sk-toggleable__label {background-color: #d4ebff;}#sk-container-id-3 div.sk-serial::before {content: \"\";position: absolute;border-left: 1px solid gray;box-sizing: border-box;top: 0;bottom: 0;left: 50%;z-index: 0;}#sk-container-id-3 div.sk-serial {display: flex;flex-direction: column;align-items: center;background-color: white;padding-right: 0.2em;padding-left: 0.2em;position: relative;}#sk-container-id-3 div.sk-item {position: relative;z-index: 1;}#sk-container-id-3 div.sk-parallel {display: flex;align-items: stretch;justify-content: center;background-color: white;position: relative;}#sk-container-id-3 div.sk-item::before, #sk-container-id-3 div.sk-parallel-item::before {content: \"\";position: absolute;border-left: 1px solid gray;box-sizing: border-box;top: 0;bottom: 0;left: 50%;z-index: -1;}#sk-container-id-3 div.sk-parallel-item {display: flex;flex-direction: column;z-index: 1;position: relative;background-color: white;}#sk-container-id-3 div.sk-parallel-item:first-child::after {align-self: flex-end;width: 50%;}#sk-container-id-3 div.sk-parallel-item:last-child::after {align-self: flex-start;width: 50%;}#sk-container-id-3 div.sk-parallel-item:only-child::after {width: 0;}#sk-container-id-3 div.sk-dashed-wrapped {border: 1px dashed gray;margin: 0 0.4em 0.5em 0.4em;box-sizing: border-box;padding-bottom: 0.4em;background-color: white;}#sk-container-id-3 div.sk-label label {font-family: monospace;font-weight: bold;display: inline-block;line-height: 1.2em;}#sk-container-id-3 div.sk-label-container {text-align: center;}#sk-container-id-3 div.sk-container {/* jupyter's `normalize.less` sets `[hidden] { display: none; }` but bootstrap.min.css set `[hidden] { display: none !important; }` so we also need the `!important` here to be able to override the default hidden behavior on the sphinx rendered scikit-learn.org. See: https://github.com/scikit-learn/scikit-learn/issues/21755 */display: inline-block !important;position: relative;}#sk-container-id-3 div.sk-text-repr-fallback {display: none;}</style><div id=\"sk-container-id-3\" class=\"sk-top-container\"><div class=\"sk-text-repr-fallback\"><pre>MLPClassifier()</pre><b>In a Jupyter environment, please rerun this cell to show the HTML representation or trust the notebook. <br />On GitHub, the HTML representation is unable to render, please try loading this page with nbviewer.org.</b></div><div class=\"sk-container\" hidden><div class=\"sk-item\"><div class=\"sk-estimator sk-toggleable\"><input class=\"sk-toggleable__control sk-hidden--visually\" id=\"sk-estimator-id-3\" type=\"checkbox\" checked><label for=\"sk-estimator-id-3\" class=\"sk-toggleable__label sk-toggleable__label-arrow\">MLPClassifier</label><div class=\"sk-toggleable__content\"><pre>MLPClassifier()</pre></div></div></div></div></div>"
      ],
      "text/plain": [
       "MLPClassifier()"
      ]
     },
     "execution_count": 29,
     "metadata": {},
     "output_type": "execute_result"
    }
   ],
   "source": [
    "mlp.fit(x_train,y_train)"
   ]
  },
  {
   "cell_type": "code",
   "execution_count": null,
   "metadata": {
    "colab": {
     "base_uri": "https://localhost:8080/",
     "height": 265
    },
    "id": "fRwN58UpCyf9",
    "outputId": "2d0847c3-629d-4b92-dd05-b2d213ee03d8"
   },
   "outputs": [
    {
     "data": {
      "image/png": "[encoded data removed]",
      "text/plain": [
       "<Figure size 432x288 with 1 Axes>"
      ]
     },
     "metadata": {
      "needs_background": "light"
     },
     "output_type": "display_data"
    }
   ],
   "source": [
    "# Grafico la curva de perdida\n",
    "import matplotlib.pyplot as plt\n",
    "plt.plot(mlp.loss_curve_)\n",
    "plt.show()"
   ]
  },
  {
   "cell_type": "code",
   "execution_count": null,
   "metadata": {
    "colab": {
     "base_uri": "https://localhost:8080/"
    },
    "id": "7phKbmvECyzk",
    "outputId": "50c5468b-9c99-418d-f464-890caef4412b"
   },
   "outputs": [
    {
     "data": {
      "text/plain": [
       "array([1, 0, 0, ..., 0, 0, 0])"
      ]
     },
     "execution_count": 31,
     "metadata": {},
     "output_type": "execute_result"
    }
   ],
   "source": [
    "#Testeo\n",
    "pred = mlp.predict(x_test)\n",
    "pred"
   ]
  },
  {
   "cell_type": "markdown",
   "metadata": {
    "id": "FV_1CnjjC1RO"
   },
   "source": [
    "\n",
    "\"\"\"Métricas del modelo\"\"\""
   ]
  },
  {
   "cell_type": "code",
   "execution_count": null,
   "metadata": {
    "colab": {
     "base_uri": "https://localhost:8080/"
    },
    "id": "jbN1EoT-C3H1",
    "outputId": "c7cfe57f-c6ac-44b7-c155-a0f0d871e012"
   },
   "outputs": [
    {
     "data": {
      "text/plain": [
       "array([[396140,  10153],\n",
       "       [    37,   2457]])"
      ]
     },
     "execution_count": 32,
     "metadata": {},
     "output_type": "execute_result"
    }
   ],
   "source": [
    "#Matriz de confusión\n",
    "from sklearn.metrics import classification_report,confusion_matrix\n",
    "confusion_matrix(y_test,pred)"
   ]
  },
  {
   "cell_type": "code",
   "execution_count": null,
   "metadata": {
    "colab": {
     "base_uri": "https://localhost:8080/"
    },
    "id": "TnsCXSpxC4s8",
    "outputId": "c1f81a7e-ba6a-463b-f13f-f2b2971975a8"
   },
   "outputs": [
    {
     "name": "stdout",
     "output_type": "stream",
     "text": [
      "              precision    recall  f1-score   support\n",
      "\n",
      "           0       1.00      0.98      0.99    406293\n",
      "           1       0.19      0.99      0.33      2494\n",
      "\n",
      "    accuracy                           0.98    408787\n",
      "   macro avg       0.60      0.98      0.66    408787\n",
      "weighted avg       0.99      0.98      0.98    408787\n",
      "\n"
     ]
    }
   ],
   "source": [
    "#funcion f2 \n",
    "print(classification_report(y_test,pred))"
   ]
  },
  {
   "cell_type": "markdown",
   "metadata": {
    "id": "nf140VTuxNuw"
   },
   "source": [
    "Luego de analizar todos los modelos, podemos ver que el mejor es el de Random Forest (de hecho, los otros son bastante malos). Los modelos de fraude suelen ser bastante complejos debido a que son muy pocos casos los que tienen para aprender.\n",
    "\n",
    "Ahora procederemos a hacer un Grid Search para optimizar los parámetros del Random Forest."
   ]
  },
  {
   "cell_type": "code",
   "execution_count": null,
   "metadata": {
    "id": "3nOOp-cRwQEP"
   },
   "outputs": [],
   "source": [
    "from sklearn.model_selection import RandomizedSearchCV"
   ]
  },
  {
   "cell_type": "code",
   "execution_count": null,
   "metadata": {
    "colab": {
     "base_uri": "https://localhost:8080/"
    },
    "id": "z2X5YQ1hxlzX",
    "outputId": "3141c89b-c93a-41bb-b77e-d6bfc2ffd0c7"
   },
   "outputs": [
    {
     "name": "stderr",
     "output_type": "stream",
     "text": [
      "/home/charly/_venv/lib/python3.8/site-packages/sklearn/ensemble/_forest.py:427: FutureWarning: `max_features='auto'` has been deprecated in 1.1 and will be removed in 1.3. To keep the past behaviour, explicitly set `max_features='sqrt'` or remove this parameter as it is also the default value for RandomForestClassifiers and ExtraTreesClassifiers.\n",
      "  warn(\n",
      "/home/charly/_venv/lib/python3.8/site-packages/sklearn/ensemble/_forest.py:427: FutureWarning: `max_features='auto'` has been deprecated in 1.1 and will be removed in 1.3. To keep the past behaviour, explicitly set `max_features='sqrt'` or remove this parameter as it is also the default value for RandomForestClassifiers and ExtraTreesClassifiers.\n",
      "  warn(\n",
      "/home/charly/_venv/lib/python3.8/site-packages/sklearn/ensemble/_forest.py:427: FutureWarning: `max_features='auto'` has been deprecated in 1.1 and will be removed in 1.3. To keep the past behaviour, explicitly set `max_features='sqrt'` or remove this parameter as it is also the default value for RandomForestClassifiers and ExtraTreesClassifiers.\n",
      "  warn(\n",
      "/home/charly/_venv/lib/python3.8/site-packages/sklearn/ensemble/_forest.py:427: FutureWarning: `max_features='auto'` has been deprecated in 1.1 and will be removed in 1.3. To keep the past behaviour, explicitly set `max_features='sqrt'` or remove this parameter as it is also the default value for RandomForestClassifiers and ExtraTreesClassifiers.\n",
      "  warn(\n",
      "/home/charly/_venv/lib/python3.8/site-packages/sklearn/ensemble/_forest.py:427: FutureWarning: `max_features='auto'` has been deprecated in 1.1 and will be removed in 1.3. To keep the past behaviour, explicitly set `max_features='sqrt'` or remove this parameter as it is also the default value for RandomForestClassifiers and ExtraTreesClassifiers.\n",
      "  warn(\n",
      "/home/charly/_venv/lib/python3.8/site-packages/sklearn/ensemble/_forest.py:427: FutureWarning: `max_features='auto'` has been deprecated in 1.1 and will be removed in 1.3. To keep the past behaviour, explicitly set `max_features='sqrt'` or remove this parameter as it is also the default value for RandomForestClassifiers and ExtraTreesClassifiers.\n",
      "  warn(\n",
      "/home/charly/_venv/lib/python3.8/site-packages/sklearn/ensemble/_forest.py:427: FutureWarning: `max_features='auto'` has been deprecated in 1.1 and will be removed in 1.3. To keep the past behaviour, explicitly set `max_features='sqrt'` or remove this parameter as it is also the default value for RandomForestClassifiers and ExtraTreesClassifiers.\n",
      "  warn(\n",
      "/home/charly/_venv/lib/python3.8/site-packages/sklearn/ensemble/_forest.py:427: FutureWarning: `max_features='auto'` has been deprecated in 1.1 and will be removed in 1.3. To keep the past behaviour, explicitly set `max_features='sqrt'` or remove this parameter as it is also the default value for RandomForestClassifiers and ExtraTreesClassifiers.\n",
      "  warn(\n",
      "/home/charly/_venv/lib/python3.8/site-packages/sklearn/ensemble/_forest.py:427: FutureWarning: `max_features='auto'` has been deprecated in 1.1 and will be removed in 1.3. To keep the past behaviour, explicitly set `max_features='sqrt'` or remove this parameter as it is also the default value for RandomForestClassifiers and ExtraTreesClassifiers.\n",
      "  warn(\n",
      "/home/charly/_venv/lib/python3.8/site-packages/sklearn/ensemble/_forest.py:427: FutureWarning: `max_features='auto'` has been deprecated in 1.1 and will be removed in 1.3. To keep the past behaviour, explicitly set `max_features='sqrt'` or remove this parameter as it is also the default value for RandomForestClassifiers and ExtraTreesClassifiers.\n",
      "  warn(\n",
      "/home/charly/_venv/lib/python3.8/site-packages/sklearn/ensemble/_forest.py:427: FutureWarning: `max_features='auto'` has been deprecated in 1.1 and will be removed in 1.3. To keep the past behaviour, explicitly set `max_features='sqrt'` or remove this parameter as it is also the default value for RandomForestClassifiers and ExtraTreesClassifiers.\n",
      "  warn(\n",
      "/home/charly/_venv/lib/python3.8/site-packages/sklearn/ensemble/_forest.py:427: FutureWarning: `max_features='auto'` has been deprecated in 1.1 and will be removed in 1.3. To keep the past behaviour, explicitly set `max_features='sqrt'` or remove this parameter as it is also the default value for RandomForestClassifiers and ExtraTreesClassifiers.\n",
      "  warn(\n",
      "/home/charly/_venv/lib/python3.8/site-packages/sklearn/ensemble/_forest.py:427: FutureWarning: `max_features='auto'` has been deprecated in 1.1 and will be removed in 1.3. To keep the past behaviour, explicitly set `max_features='sqrt'` or remove this parameter as it is also the default value for RandomForestClassifiers and ExtraTreesClassifiers.\n",
      "  warn(\n",
      "/home/charly/_venv/lib/python3.8/site-packages/sklearn/ensemble/_forest.py:427: FutureWarning: `max_features='auto'` has been deprecated in 1.1 and will be removed in 1.3. To keep the past behaviour, explicitly set `max_features='sqrt'` or remove this parameter as it is also the default value for RandomForestClassifiers and ExtraTreesClassifiers.\n",
      "  warn(\n",
      "/home/charly/_venv/lib/python3.8/site-packages/sklearn/ensemble/_forest.py:427: FutureWarning: `max_features='auto'` has been deprecated in 1.1 and will be removed in 1.3. To keep the past behaviour, explicitly set `max_features='sqrt'` or remove this parameter as it is also the default value for RandomForestClassifiers and ExtraTreesClassifiers.\n",
      "  warn(\n",
      "/home/charly/_venv/lib/python3.8/site-packages/sklearn/ensemble/_forest.py:427: FutureWarning: `max_features='auto'` has been deprecated in 1.1 and will be removed in 1.3. To keep the past behaviour, explicitly set `max_features='sqrt'` or remove this parameter as it is also the default value for RandomForestClassifiers and ExtraTreesClassifiers.\n",
      "  warn(\n",
      "/home/charly/_venv/lib/python3.8/site-packages/sklearn/ensemble/_forest.py:427: FutureWarning: `max_features='auto'` has been deprecated in 1.1 and will be removed in 1.3. To keep the past behaviour, explicitly set `max_features='sqrt'` or remove this parameter as it is also the default value for RandomForestClassifiers and ExtraTreesClassifiers.\n",
      "  warn(\n",
      "/home/charly/_venv/lib/python3.8/site-packages/sklearn/ensemble/_forest.py:427: FutureWarning: `max_features='auto'` has been deprecated in 1.1 and will be removed in 1.3. To keep the past behaviour, explicitly set `max_features='sqrt'` or remove this parameter as it is also the default value for RandomForestClassifiers and ExtraTreesClassifiers.\n",
      "  warn(\n",
      "/home/charly/_venv/lib/python3.8/site-packages/sklearn/ensemble/_forest.py:427: FutureWarning: `max_features='auto'` has been deprecated in 1.1 and will be removed in 1.3. To keep the past behaviour, explicitly set `max_features='sqrt'` or remove this parameter as it is also the default value for RandomForestClassifiers and ExtraTreesClassifiers.\n",
      "  warn(\n",
      "/home/charly/_venv/lib/python3.8/site-packages/sklearn/ensemble/_forest.py:427: FutureWarning: `max_features='auto'` has been deprecated in 1.1 and will be removed in 1.3. To keep the past behaviour, explicitly set `max_features='sqrt'` or remove this parameter as it is also the default value for RandomForestClassifiers and ExtraTreesClassifiers.\n",
      "  warn(\n",
      "/home/charly/_venv/lib/python3.8/site-packages/sklearn/ensemble/_forest.py:427: FutureWarning: `max_features='auto'` has been deprecated in 1.1 and will be removed in 1.3. To keep the past behaviour, explicitly set `max_features='sqrt'` or remove this parameter as it is also the default value for RandomForestClassifiers and ExtraTreesClassifiers.\n",
      "  warn(\n",
      "/home/charly/_venv/lib/python3.8/site-packages/sklearn/ensemble/_forest.py:427: FutureWarning: `max_features='auto'` has been deprecated in 1.1 and will be removed in 1.3. To keep the past behaviour, explicitly set `max_features='sqrt'` or remove this parameter as it is also the default value for RandomForestClassifiers and ExtraTreesClassifiers.\n",
      "  warn(\n",
      "/home/charly/_venv/lib/python3.8/site-packages/sklearn/ensemble/_forest.py:427: FutureWarning: `max_features='auto'` has been deprecated in 1.1 and will be removed in 1.3. To keep the past behaviour, explicitly set `max_features='sqrt'` or remove this parameter as it is also the default value for RandomForestClassifiers and ExtraTreesClassifiers.\n",
      "  warn(\n"
     ]
    },
    {
     "name": "stderr",
     "output_type": "stream",
     "text": [
      "/home/charly/_venv/lib/python3.8/site-packages/sklearn/ensemble/_forest.py:427: FutureWarning: `max_features='auto'` has been deprecated in 1.1 and will be removed in 1.3. To keep the past behaviour, explicitly set `max_features='sqrt'` or remove this parameter as it is also the default value for RandomForestClassifiers and ExtraTreesClassifiers.\n",
      "  warn(\n",
      "/home/charly/_venv/lib/python3.8/site-packages/sklearn/ensemble/_forest.py:427: FutureWarning: `max_features='auto'` has been deprecated in 1.1 and will be removed in 1.3. To keep the past behaviour, explicitly set `max_features='sqrt'` or remove this parameter as it is also the default value for RandomForestClassifiers and ExtraTreesClassifiers.\n",
      "  warn(\n",
      "/home/charly/_venv/lib/python3.8/site-packages/sklearn/ensemble/_forest.py:427: FutureWarning: `max_features='auto'` has been deprecated in 1.1 and will be removed in 1.3. To keep the past behaviour, explicitly set `max_features='sqrt'` or remove this parameter as it is also the default value for RandomForestClassifiers and ExtraTreesClassifiers.\n",
      "  warn(\n"
     ]
    },
    {
     "data": {
      "text/html": [
       "<style>#sk-container-id-4 {color: black;background-color: white;}#sk-container-id-4 pre{padding: 0;}#sk-container-id-4 div.sk-toggleable {background-color: white;}#sk-container-id-4 label.sk-toggleable__label {cursor: pointer;display: block;width: 100%;margin-bottom: 0;padding: 0.3em;box-sizing: border-box;text-align: center;}#sk-container-id-4 label.sk-toggleable__label-arrow:before {content: \"▸\";float: left;margin-right: 0.25em;color: #696969;}#sk-container-id-4 label.sk-toggleable__label-arrow:hover:before {color: black;}#sk-container-id-4 div.sk-estimator:hover label.sk-toggleable__label-arrow:before {color: black;}#sk-container-id-4 div.sk-toggleable__content {max-height: 0;max-width: 0;overflow: hidden;text-align: left;background-color: #f0f8ff;}#sk-container-id-4 div.sk-toggleable__content pre {margin: 0.2em;color: black;border-radius: 0.25em;background-color: #f0f8ff;}#sk-container-id-4 input.sk-toggleable__control:checked~div.sk-toggleable__content {max-height: 200px;max-width: 100%;overflow: auto;}#sk-container-id-4 input.sk-toggleable__control:checked~label.sk-toggleable__label-arrow:before {content: \"▾\";}#sk-container-id-4 div.sk-estimator input.sk-toggleable__control:checked~label.sk-toggleable__label {background-color: #d4ebff;}#sk-container-id-4 div.sk-label input.sk-toggleable__control:checked~label.sk-toggleable__label {background-color: #d4ebff;}#sk-container-id-4 input.sk-hidden--visually {border: 0;clip: rect(1px 1px 1px 1px);clip: rect(1px, 1px, 1px, 1px);height: 1px;margin: -1px;overflow: hidden;padding: 0;position: absolute;width: 1px;}#sk-container-id-4 div.sk-estimator {font-family: monospace;background-color: #f0f8ff;border: 1px dotted black;border-radius: 0.25em;box-sizing: border-box;margin-bottom: 0.5em;}#sk-container-id-4 div.sk-estimator:hover {background-color: #d4ebff;}#sk-container-id-4 div.sk-parallel-item::after {content: \"\";width: 100%;border-bottom: 1px solid gray;flex-grow: 1;}#sk-container-id-4 div.sk-label:hover label.sk-toggleable__label {background-color: #d4ebff;}#sk-container-id-4 div.sk-serial::before {content: \"\";position: absolute;border-left: 1px solid gray;box-sizing: border-box;top: 0;bottom: 0;left: 50%;z-index: 0;}#sk-container-id-4 div.sk-serial {display: flex;flex-direction: column;align-items: center;background-color: white;padding-right: 0.2em;padding-left: 0.2em;position: relative;}#sk-container-id-4 div.sk-item {position: relative;z-index: 1;}#sk-container-id-4 div.sk-parallel {display: flex;align-items: stretch;justify-content: center;background-color: white;position: relative;}#sk-container-id-4 div.sk-item::before, #sk-container-id-4 div.sk-parallel-item::before {content: \"\";position: absolute;border-left: 1px solid gray;box-sizing: border-box;top: 0;bottom: 0;left: 50%;z-index: -1;}#sk-container-id-4 div.sk-parallel-item {display: flex;flex-direction: column;z-index: 1;position: relative;background-color: white;}#sk-container-id-4 div.sk-parallel-item:first-child::after {align-self: flex-end;width: 50%;}#sk-container-id-4 div.sk-parallel-item:last-child::after {align-self: flex-start;width: 50%;}#sk-container-id-4 div.sk-parallel-item:only-child::after {width: 0;}#sk-container-id-4 div.sk-dashed-wrapped {border: 1px dashed gray;margin: 0 0.4em 0.5em 0.4em;box-sizing: border-box;padding-bottom: 0.4em;background-color: white;}#sk-container-id-4 div.sk-label label {font-family: monospace;font-weight: bold;display: inline-block;line-height: 1.2em;}#sk-container-id-4 div.sk-label-container {text-align: center;}#sk-container-id-4 div.sk-container {/* jupyter's `normalize.less` sets `[hidden] { display: none; }` but bootstrap.min.css set `[hidden] { display: none !important; }` so we also need the `!important` here to be able to override the default hidden behavior on the sphinx rendered scikit-learn.org. See: https://github.com/scikit-learn/scikit-learn/issues/21755 */display: inline-block !important;position: relative;}#sk-container-id-4 div.sk-text-repr-fallback {display: none;}</style><div id=\"sk-container-id-4\" class=\"sk-top-container\"><div class=\"sk-text-repr-fallback\"><pre>RandomizedSearchCV(estimator=RandomForestClassifier(),\n",
       "                   param_distributions={&#x27;bootstrap&#x27;: [True, False],\n",
       "                                        &#x27;max_depth&#x27;: [10, 20, 30, 40, 50, 60,\n",
       "                                                      70, 80, 90, 100, None],\n",
       "                                        &#x27;max_features&#x27;: [&#x27;auto&#x27;, &#x27;sqrt&#x27;],\n",
       "                                        &#x27;min_samples_leaf&#x27;: [1, 2, 4],\n",
       "                                        &#x27;min_samples_split&#x27;: [2, 5, 10],\n",
       "                                        &#x27;n_estimators&#x27;: [200, 400, 600, 800,\n",
       "                                                         1000, 1200, 1400, 1600,\n",
       "                                                         1800, 2000]})</pre><b>In a Jupyter environment, please rerun this cell to show the HTML representation or trust the notebook. <br />On GitHub, the HTML representation is unable to render, please try loading this page with nbviewer.org.</b></div><div class=\"sk-container\" hidden><div class=\"sk-item sk-dashed-wrapped\"><div class=\"sk-label-container\"><div class=\"sk-label sk-toggleable\"><input class=\"sk-toggleable__control sk-hidden--visually\" id=\"sk-estimator-id-4\" type=\"checkbox\" ><label for=\"sk-estimator-id-4\" class=\"sk-toggleable__label sk-toggleable__label-arrow\">RandomizedSearchCV</label><div class=\"sk-toggleable__content\"><pre>RandomizedSearchCV(estimator=RandomForestClassifier(),\n",
       "                   param_distributions={&#x27;bootstrap&#x27;: [True, False],\n",
       "                                        &#x27;max_depth&#x27;: [10, 20, 30, 40, 50, 60,\n",
       "                                                      70, 80, 90, 100, None],\n",
       "                                        &#x27;max_features&#x27;: [&#x27;auto&#x27;, &#x27;sqrt&#x27;],\n",
       "                                        &#x27;min_samples_leaf&#x27;: [1, 2, 4],\n",
       "                                        &#x27;min_samples_split&#x27;: [2, 5, 10],\n",
       "                                        &#x27;n_estimators&#x27;: [200, 400, 600, 800,\n",
       "                                                         1000, 1200, 1400, 1600,\n",
       "                                                         1800, 2000]})</pre></div></div></div><div class=\"sk-parallel\"><div class=\"sk-parallel-item\"><div class=\"sk-item\"><div class=\"sk-label-container\"><div class=\"sk-label sk-toggleable\"><input class=\"sk-toggleable__control sk-hidden--visually\" id=\"sk-estimator-id-5\" type=\"checkbox\" ><label for=\"sk-estimator-id-5\" class=\"sk-toggleable__label sk-toggleable__label-arrow\">estimator: RandomForestClassifier</label><div class=\"sk-toggleable__content\"><pre>RandomForestClassifier()</pre></div></div></div><div class=\"sk-serial\"><div class=\"sk-item\"><div class=\"sk-estimator sk-toggleable\"><input class=\"sk-toggleable__control sk-hidden--visually\" id=\"sk-estimator-id-6\" type=\"checkbox\" ><label for=\"sk-estimator-id-6\" class=\"sk-toggleable__label sk-toggleable__label-arrow\">RandomForestClassifier</label><div class=\"sk-toggleable__content\"><pre>RandomForestClassifier()</pre></div></div></div></div></div></div></div></div></div></div>"
      ],
      "text/plain": [
       "RandomizedSearchCV(estimator=RandomForestClassifier(),\n",
       "                   param_distributions={'bootstrap': [True, False],\n",
       "                                        'max_depth': [10, 20, 30, 40, 50, 60,\n",
       "                                                      70, 80, 90, 100, None],\n",
       "                                        'max_features': ['auto', 'sqrt'],\n",
       "                                        'min_samples_leaf': [1, 2, 4],\n",
       "                                        'min_samples_split': [2, 5, 10],\n",
       "                                        'n_estimators': [200, 400, 600, 800,\n",
       "                                                         1000, 1200, 1400, 1600,\n",
       "                                                         1800, 2000]})"
      ]
     },
     "execution_count": 35,
     "metadata": {},
     "output_type": "execute_result"
    }
   ],
   "source": [
    "rf = RandomForestClassifier()\n",
    "params = {'bootstrap': [True, False],\n",
    " 'max_depth': [10, 20, 30, 40, 50, 60, 70, 80, 90, 100, None],\n",
    " 'max_features': ['auto', 'sqrt'],\n",
    " 'min_samples_leaf': [1, 2, 4],\n",
    " 'min_samples_split': [2, 5, 10],\n",
    " 'n_estimators': [200, 400, 600, 800, 1000, 1200, 1400, 1600, 1800, 2000]}\n",
    "grid = RandomizedSearchCV(rf,params)\n",
    "grid.fit(x_train, y_train)"
   ]
  },
  {
   "cell_type": "code",
   "execution_count": null,
   "metadata": {
    "colab": {
     "base_uri": "https://localhost:8080/"
    },
    "id": "1Kd7MITg5QeF",
    "outputId": "93bebd00-c754-463c-8fb9-570818aa1c27"
   },
   "outputs": [
    {
     "data": {
      "text/plain": [
       "('criterion',\n",
       " 'max_depth',\n",
       " 'min_samples_split',\n",
       " 'min_samples_leaf',\n",
       " 'min_weight_fraction_leaf',\n",
       " 'max_features',\n",
       " 'max_leaf_nodes',\n",
       " 'min_impurity_decrease',\n",
       " 'random_state',\n",
       " 'ccp_alpha')"
      ]
     },
     "execution_count": 36,
     "metadata": {},
     "output_type": "execute_result"
    }
   ],
   "source": [
    "grid.best_estimator_.estimator_params"
   ]
  },
  {
   "cell_type": "code",
   "execution_count": null,
   "metadata": {
    "colab": {
     "base_uri": "https://localhost:8080/"
    },
    "id": "xXJBoaHlyCAO",
    "outputId": "ca9bbb8a-1164-4c51-a49b-9701a92e3072"
   },
   "outputs": [
    {
     "data": {
      "text/plain": [
       "0.9924850839190091"
      ]
     },
     "execution_count": 37,
     "metadata": {},
     "output_type": "execute_result"
    }
   ],
   "source": [
    "grid.best_estimator_.score(x_test,y_test)"
   ]
  },
  {
   "cell_type": "code",
   "execution_count": null,
   "metadata": {
    "id": "yrHoGi0Y4JOJ"
   },
   "outputs": [],
   "source": [
    "grid_preds = grid.best_estimator_.predict(x_test)"
   ]
  },
  {
   "cell_type": "code",
   "execution_count": null,
   "metadata": {
    "colab": {
     "base_uri": "https://localhost:8080/"
    },
    "id": "vKpDWSSX5EHg",
    "outputId": "6af52eaa-cf5b-44d7-94ea-3bad48104763"
   },
   "outputs": [
    {
     "name": "stdout",
     "output_type": "stream",
     "text": [
      "[[403224   3069]\n",
      " [     3   2491]]\n"
     ]
    }
   ],
   "source": [
    "print(confusion_matrix(y_test,grid_preds))"
   ]
  },
  {
   "cell_type": "code",
   "execution_count": null,
   "metadata": {
    "colab": {
     "base_uri": "https://localhost:8080/"
    },
    "id": "ARhU7SlO5JqX",
    "outputId": "31462912-4d00-4a40-8b17-2c969dc7f8d9"
   },
   "outputs": [
    {
     "name": "stdout",
     "output_type": "stream",
     "text": [
      "              precision    recall  f1-score   support\n",
      "\n",
      "           0       1.00      0.99      1.00    406293\n",
      "           1       0.45      1.00      0.62      2494\n",
      "\n",
      "    accuracy                           0.99    408787\n",
      "   macro avg       0.72      1.00      0.81    408787\n",
      "weighted avg       1.00      0.99      0.99    408787\n",
      "\n"
     ]
    }
   ],
   "source": [
    "print(classification_report(y_test,grid_preds))"
   ]
  },
  {
   "cell_type": "markdown",
   "metadata": {
    "id": "-IWrMfon6Gmy"
   },
   "source": [
    "Podemos ver que, luego de probar con distintos parámetros, hubo una mejora, aunque es muy ligera (0.01)."
   ]
  },
  {
   "cell_type": "markdown",
   "metadata": {
    "id": "jbqbXnCs_F_U"
   },
   "source": [
    "## Conclusión\n",
    "\n",
    "En base a lo analizado, el mejor modelo a utilizar es el random forest, con los hiperparámetros mencionados anteriormente. Cabe destacar que los modelos de fraude siempre son complejos, y que el resultado probablemente pueda ser mejorable si podemos agregar más variables, por ejemplo relacionadas a las transacciones, a las cuentas u otras. \n",
    "De todas formas, el 0.62 obtenido para la predicción de fraude, sumado a un recall de 1.00 (que indica que agarramos TODAS las transacciones fraudulentas), puede ser un buen modelo base para comenzar a poner productivo y testear en el mundo real."
   ]
  },
  {
   "cell_type": "code",
   "execution_count": null,
   "metadata": {
    "id": "xa02KbMOCmVc"
   },
   "outputs": [],
   "source": [
    "# Picklear ese modelo\n",
    "import pickle\n",
    "with open('modelo_fraude.pickle', 'wb') as handle:\n",
    "    pickle.dump(grid.best_estimator_,handle)"
   ]
  },
  {
   "cell_type": "code",
   "execution_count": null,
   "metadata": {},
   "outputs": [],
   "source": []
  }
 ],
 "metadata": {
  "colab": {
   "collapsed_sections": [
    "Ws2XxV9MRWYK"
   ],
   "name": "TPFinal.ipynb",
   "provenance": []
  },
  "interpreter": {
   "hash": "0125089d5527e4c87f21c59913a2b8f1c6d7d2122afd80ba69e7f8f5eb3d80f9"
  },
  "kernelspec": {
   "display_name": "Python 3.8.10 ('_venv': venv)",
   "language": "python",
   "name": "python3"
  },
  "language_info": {
   "codemirror_mode": {
    "name": "ipython",
    "version": 3
   },
   "file_extension": ".py",
   "mimetype": "text/x-python",
   "name": "python",
   "nbconvert_exporter": "python",
   "pygments_lexer": "ipython3",
   "version": "3.8.10"
  }
 },
 "nbformat": 4,
 "nbformat_minor": 1
}
